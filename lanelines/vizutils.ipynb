{
 "cells": [
  {
   "cell_type": "code",
   "execution_count": 4,
   "metadata": {
    "collapsed": true,
    "deletable": true,
    "editable": true
   },
   "outputs": [],
   "source": [
    "from moviepy.editor import VideoFileClip\n",
    "def video_to_gif(video_file, gif_file):\n",
    "    clip = (VideoFileClip(video_file)\n",
    "            .resize(1.))\n",
    "    clip.write_videofile(gif_file, fps=15, codec='gif')\n",
    "\n",
    "# video_to_gif('output/out_project_video_slice.mp4', \"output/out_project_video_slice.gif\")\n",
    "# video_to_gif('output/out_challenge_video_slice.mp4', \"output/out_challenge_video_slice.gif\")\n",
    "# video_to_gif('output/out_harder_challenge_video_slice.mp4', \"output/out_harder_challenge_video_slice.gif\")"
   ]
  },
  {
   "cell_type": "code",
   "execution_count": 5,
   "metadata": {
    "collapsed": false
   },
   "outputs": [
    {
     "name": "stdout",
     "output_type": "stream",
     "text": [
      "[MoviePy] >>>> Building video ../output/project_video_4303.gif\n",
      "[MoviePy] Writing video ../output/project_video_4303.gif\n"
     ]
    },
    {
     "name": "stderr",
     "output_type": "stream",
     "text": [
      "100%|██████████| 61/61 [00:08<00:00,  6.05it/s]\n"
     ]
    },
    {
     "name": "stdout",
     "output_type": "stream",
     "text": [
      "[MoviePy] Done.\n",
      "[MoviePy] >>>> Video ready: ../output/project_video_4303.gif \n",
      "\n"
     ]
    }
   ],
   "source": [
    "video_to_gif('../output/project_video_4303.mp4', \"../output/project_video_4303.gif\")"
   ]
  },
  {
   "cell_type": "code",
   "execution_count": 6,
   "metadata": {
    "collapsed": false
   },
   "outputs": [
    {
     "name": "stdout",
     "output_type": "stream",
     "text": [
      "[MoviePy] >>>> Building video ../output/test_video_out.gif\n",
      "[MoviePy] Writing video ../output/test_video_out.gif\n"
     ]
    },
    {
     "name": "stderr",
     "output_type": "stream",
     "text": [
      "100%|██████████| 23/23 [00:00<00:00, 32.05it/s]"
     ]
    },
    {
     "name": "stdout",
     "output_type": "stream",
     "text": [
      "[MoviePy] Done.\n",
      "[MoviePy] >>>> Video ready: ../output/test_video_out.gif \n",
      "\n"
     ]
    },
    {
     "name": "stderr",
     "output_type": "stream",
     "text": [
      "\n"
     ]
    }
   ],
   "source": [
    "video_to_gif('../output/test_video_out.mp4', \"../output/test_video_out.gif\")"
   ]
  },
  {
   "cell_type": "code",
   "execution_count": null,
   "metadata": {
    "collapsed": true
   },
   "outputs": [],
   "source": []
  }
 ],
 "metadata": {
  "kernelspec": {
   "display_name": "Python2 (udacity-carnd)",
   "language": "python",
   "name": "udacity-carnd"
  },
  "language_info": {
   "codemirror_mode": {
    "name": "ipython",
    "version": 2
   },
   "file_extension": ".py",
   "mimetype": "text/x-python",
   "name": "python",
   "nbconvert_exporter": "python",
   "pygments_lexer": "ipython2",
   "version": "2.7.12"
  }
 },
 "nbformat": 4,
 "nbformat_minor": 2
}
